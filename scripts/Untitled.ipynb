{
 "cells": [
  {
   "cell_type": "code",
   "execution_count": 1,
   "id": "e749bee4-dd8c-4fd5-822e-ae6c7ea791ce",
   "metadata": {},
   "outputs": [],
   "source": [
    "import sys\n",
    "sys.path.append('/home/yeyiqi/Documents/repos/GaussianAvatars')\n",
    "sys.path.append('/home/yeyiqi/.conda/envs/gaussian-avatars/lib/python3.10/site-packages')"
   ]
  },
  {
   "cell_type": "code",
   "execution_count": 2,
   "id": "fa5d8d02-f8d7-484c-aca5-12ae148739f9",
   "metadata": {},
   "outputs": [],
   "source": [
    "from plyfile import PlyData, PlyElement\n",
    "from PIL import Image\n",
    "import numpy as np\n",
    "import torch\n",
    "from torch.utils.data import DataLoader\n",
    "import torch.nn.functional as F\n",
    "import sys\n",
    "import os\n",
    "from pathlib import Path\n",
    "import pickle\n",
    "from typing import NamedTuple, Optional\n",
    "from utils.graphics_utils import ClothMesh, SmplxMesh, ClothedSmplxMesh, read_ply_mesh\n",
    "from utils.loss_utils import l1_loss, ssim\n",
    "from scene.cloth_smplx_model import ClothSmplxGaussianModel\n",
    "from scene.dataset_readers import getNerfppNorm\n",
    "from gaussian_renderer import render\n",
    "from tqdm import tqdm\n",
    "from utils.graphics_utils import getWorld2View2, getProjectionMatrix"
   ]
  },
  {
   "cell_type": "code",
   "execution_count": 3,
   "id": "6e63e0c9-3e43-4c0a-8c3b-acaf4394c35d",
   "metadata": {},
   "outputs": [],
   "source": [
    "class CustomArgs(NamedTuple):\n",
    "    upper_path = '/home/yeyiqi/Documents/WD/00122/Outer/Take9/Semantic/clothes/cloth-f00011_upper.ply'\n",
    "    outer_path = '/home/yeyiqi/Documents/WD/00122/Outer/Take9/Semantic/clothes/cloth-f00011_outer.ply'\n",
    "    lower_path = '/home/yeyiqi/Documents/WD/00122/Outer/Take9/Semantic/clothes/cloth-f00011_lower.ply'\n",
    "    shoe_path = '/home/yeyiqi/Documents/WD/00122/Outer/Take9/Semantic/clothes/cloth-f00011_shoe.ply'\n",
    "    smplx_path = '/home/yeyiqi/Documents/WD/00122/Outer/Take9/SMPLX/mesh-f00011_smplx.ply'\n",
    "    cam_path = '/home/yeyiqi/Documents/WD/00122/Outer/Take9/Capture/cameras.pkl'\n",
    "    frame = '00011'\n",
    "    model_path = '/home/yeyiqi/Documents/WD/00122/Outer/Take9/Capture'\n",
    "    resolution = 1\n",
    "    iterations = 600_000  # 30_000 (original)\n",
    "    position_lr_init = 0.005  # (scaled up according to mean triangle scale)  #0.00016 (original)\n",
    "    position_lr_final = 0.00005  # (scaled up according to mean triangle scale) # 0.0000016 (original)\n",
    "    position_lr_delay_mult = 0.01\n",
    "    position_lr_max_steps = 600_000  # 30_000 (original)\n",
    "    feature_lr = 0.0025\n",
    "    opacity_lr = 0.05\n",
    "    scaling_lr = 0.017  # (scaled up according to mean triangle scale)  # 0.005 (original)\n",
    "    rotation_lr = 0.001\n",
    "    densification_interval = 2_000  # 100 (original)\n",
    "    opacity_reset_interval = 60_000 # 3000 (original)\n",
    "    densify_from_iter = 10_000  # 500 (original)\n",
    "    densify_until_iter = 600_000  # 15_000 (original)\n",
    "    densify_grad_threshold = 0.0002\n",
    "    flame_expr_lr = 1e-3\n",
    "    flame_trans_lr = 1e-6\n",
    "    flame_pose_lr = 1e-5\n",
    "    percent_dense = 0.01\n",
    "    lambda_dssim = 0.2\n",
    "    lambda_xyz = 1e-2\n",
    "    threshold_xyz = 1.\n",
    "    metric_xyz = False\n",
    "    lambda_scale = 1.\n",
    "    threshold_scale = 0.6\n",
    "    metric_scale = False\n",
    "    lambda_dynamic_offset = 0.\n",
    "    lambda_laplacian = 0.\n",
    "    lambda_dynamic_offset_std = 0  #1.\n",
    "    # pipe parameters\n",
    "    convert_SHs_python = False\n",
    "    compute_cov3D_python = False\n",
    "    debug = False\n",
    "    data_device = 'cuda'"
   ]
  },
  {
   "cell_type": "code",
   "execution_count": 4,
   "id": "7de73325-8cc8-405a-9570-f9256dae1b45",
   "metadata": {},
   "outputs": [],
   "source": [
    "args = CustomArgs()\n",
    "upper_mesh = read_ply_mesh(args.upper_path)\n",
    "outer_mesh = read_ply_mesh(args.outer_path)\n",
    "lower_mesh = read_ply_mesh(args.lower_path)\n",
    "shoe_mesh = read_ply_mesh(args.shoe_path)\n",
    "smplx_mesh = read_ply_mesh(args.smplx_path, type='smplx')\n"
   ]
  },
  {
   "cell_type": "code",
   "execution_count": 5,
   "id": "cd49a868-6060-4965-ba80-c8980bb4734f",
   "metadata": {},
   "outputs": [],
   "source": [
    "meshes = [outer_mesh, upper_mesh, lower_mesh, shoe_mesh, smplx_mesh]"
   ]
  },
  {
   "cell_type": "code",
   "execution_count": null,
   "id": "3e0f35d0-66a1-4806-8be8-f282fbdfc8ba",
   "metadata": {},
   "outputs": [],
   "source": []
  }
 ],
 "metadata": {
  "kernelspec": {
   "display_name": "gaussian-avatars",
   "language": "python",
   "name": "gaussian-avatars"
  },
  "language_info": {
   "codemirror_mode": {
    "name": "ipython",
    "version": 3
   },
   "file_extension": ".py",
   "mimetype": "text/x-python",
   "name": "python",
   "nbconvert_exporter": "python",
   "pygments_lexer": "ipython3",
   "version": "3.10.16"
  }
 },
 "nbformat": 4,
 "nbformat_minor": 5
}
